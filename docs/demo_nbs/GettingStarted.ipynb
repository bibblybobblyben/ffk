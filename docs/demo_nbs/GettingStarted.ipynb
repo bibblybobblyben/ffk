{
 "cells": [
  {
   "cell_type": "code",
   "execution_count": 1,
   "id": "5d1821eb-1e15-432c-b38a-66659f2289af",
   "metadata": {},
   "outputs": [],
   "source": [
    "from spaff.wrappers import SphereFit\n",
    "import healpy as hp\n",
    "import numpy as np\n"
   ]
  },
  {
   "cell_type": "code",
   "execution_count": 2,
   "id": "4c1d0855-d2ef-478d-8468-0de8b66174df",
   "metadata": {},
   "outputs": [],
   "source": [
    "fit = SphereFit(n_samples=200000)"
   ]
  },
  {
   "cell_type": "markdown",
   "id": "d5baa58d-ad24-45cc-9eee-34d9a8c0ece8",
   "metadata": {},
   "source": [
    "The SphereFt class is an iterator, which will apply all of the stages required to take a step in exploring the space. There are 4 stage contained in this loops:\n",
    "- hypothesise as next step, performed by the 'hyp_function' keyword \n",
    "- evaluate the proposed step, performed by the 'eval_function' keyword argument\n",
    "- accept or reject the next step, performed by the 'acc_function' keyword argument\n",
    "- Finally, decide whether to save the current state to disk, performed by the 'logging' keyword argument  \n",
    "Not all outputs may want to be saved - for example, a phase of burn-in might be desired, or only a maximum likelihood estimate is desired, or the size of outputs mean only a subsection are recorded.  \n",
    "  \n",
    "The iterator also needs a data input to compare all hypothesises to. "
   ]
  },
  {
   "cell_type": "code",
   "execution_count": 3,
   "id": "cea042dc-2449-4ff7-8510-d28c497f14b6",
   "metadata": {},
   "outputs": [],
   "source": [
    "nside = 2\n",
    "n_pix = hp.nside2npix(nside)\n",
    "pixel_values = np.ones(n_pix)\n",
    "#pixel_values = np.random.normal(0,1,n_pix)"
   ]
  },
  {
   "cell_type": "code",
   "execution_count": 4,
   "id": "6d05fdea-aac8-45ef-a4e5-2d2953207caa",
   "metadata": {},
   "outputs": [
    {
     "data": {
      "image/png": "[encoded data removed]",
      "text/plain": [
       "<Figure size 612x388.8 with 2 Axes>"
      ]
     },
     "metadata": {
      "needs_background": "light"
     },
     "output_type": "display_data"
    }
   ],
   "source": [
    "hp.visufunc.mollview(pixel_values)"
   ]
  },
  {
   "cell_type": "code",
   "execution_count": 5,
   "id": "ece6d3e9-7dda-45d2-a9f2-0914bd80eb60",
   "metadata": {},
   "outputs": [],
   "source": [
    "n_alm = len(hp.map2alm(pixel_values, lmax=2*nside-1))\n",
    "#alm_hyp = \n"
   ]
  },
  {
   "cell_type": "code",
   "execution_count": 6,
   "id": "8b78a8c2-c10b-4a53-a771-5cd45f9a2aaa",
   "metadata": {},
   "outputs": [
    {
     "data": {
      "image/png": "[encoded data removed]",
      "text/plain": [
       "<Figure size 612x388.8 with 2 Axes>"
      ]
     },
     "metadata": {
      "needs_background": "light"
     },
     "output_type": "display_data"
    }
   ],
   "source": [
    "e_hyp_in = np.random.normal(0,1, n_alm) + 1.0j* np.random.normal(0,1, n_alm)\n",
    "fit.emodes=e_hyp_in\n",
    "fit.current_state = e_hyp_in\n",
    "mapgo = hp.alm2map(e_hyp_in, nside=nside)\n",
    "hp.visufunc.mollview(mapgo)"
   ]
  },
  {
   "cell_type": "code",
   "execution_count": 7,
   "id": "42a8bcb8-aa9c-45b5-9891-25e56c715462",
   "metadata": {},
   "outputs": [],
   "source": [
    "fit.data = pixel_values\n",
    "fit.error_map = np.ones(pixel_values.shape)"
   ]
  },
  {
   "cell_type": "code",
   "execution_count": 8,
   "id": "0d48f874-2a72-453b-bc20-e2bac9160fe9",
   "metadata": {
    "tags": []
   },
   "outputs": [
    {
     "name": "stdout",
     "output_type": "stream",
     "text": [
      "accepted 0 887.6288313534113 112.37116864658864\n",
      "accepted 1 3.1601420202934065 109.21102662629524\n",
      "accepted 5 4.62483440458756 104.58619222170768\n"
     ]
    }
   ],
   "source": [
    "fit.run()"
   ]
  },
  {
   "cell_type": "code",
   "execution_count": 9,
   "id": "42bf296f-1c58-4421-a572-af44f1d1227e",
   "metadata": {},
   "outputs": [
    {
     "data": {
      "text/plain": [
       "array([-13.20472252, -49.05763734, -33.89578392,  -3.15621937,\n",
       "        27.84315479,  -7.43249893,   2.76510829, -52.65073312,\n",
       "       -34.41932557,  49.52651733,  31.21445447,  37.96010671,\n",
       "        46.12401861, -11.02622194,  32.28206317,  29.71842601,\n",
       "       -64.49710854,  69.63810984,  98.4152037 ,  23.99386302,\n",
       "       -11.11067912, -12.20065539,  98.68061705, -15.93527659,\n",
       "        -8.34721256, 142.30590857,  38.23544221,   3.28819099,\n",
       "       -42.02840629, -53.60843385,  62.14877565,  79.41823004,\n",
       "       -41.1802338 ,  72.86574354,  81.59752149, -38.13788267,\n",
       "       -79.63566776, -12.82432871,  76.7188725 ,  14.60100562,\n",
       "        -7.31341336,  43.38633049, -30.47485278, -85.86806879,\n",
       "       -52.16670597,  10.51447267, -19.45663639, -73.94759686])"
      ]
     },
     "execution_count": 9,
     "metadata": {},
     "output_type": "execute_result"
    }
   ],
   "source": [
    "fit.data_hyp"
   ]
  },
  {
   "cell_type": "code",
   "execution_count": 11,
   "id": "0ba64988-7d85-4d4b-ba48-9be5c7a22a5d",
   "metadata": {},
   "outputs": [],
   "source": [
    "from spaff.wrappers import SphereFit"
   ]
  },
  {
   "cell_type": "code",
   "execution_count": 10,
   "id": "3d839ef4-66e0-4775-8d46-34dc9c19dfaf",
   "metadata": {},
   "outputs": [],
   "source": [
    "start_map = hp.alm2map(e_hyp_in, nside=nside)"
   ]
  },
  {
   "cell_type": "code",
   "execution_count": 11,
   "id": "390a69fb-4142-49d7-b8ec-190e824e3e87",
   "metadata": {},
   "outputs": [
    {
     "data": {
      "text/plain": [
       "129763.87174442041"
      ]
     },
     "execution_count": 11,
     "metadata": {},
     "output_type": "execute_result"
    }
   ],
   "source": [
    "np.sum((fit.data_hyp-fit.data)**2)"
   ]
  },
  {
   "cell_type": "code",
   "execution_count": 12,
   "id": "2257d04e-2527-458d-9c70-e6fbe9241f16",
   "metadata": {},
   "outputs": [
    {
     "data": {
      "text/plain": [
       "129763.87174442041"
      ]
     },
     "execution_count": 12,
     "metadata": {},
     "output_type": "execute_result"
    }
   ],
   "source": [
    "np.sum((start_map-fit.data)**2)"
   ]
  },
  {
   "cell_type": "code",
   "execution_count": 13,
   "id": "bd0f2986-e098-488f-b38e-d779d67b17db",
   "metadata": {},
   "outputs": [
    {
     "data": {
      "text/plain": [
       "array([-13.20472252, -49.05763734, -33.89578392,  -3.15621937,\n",
       "        27.84315479,  -7.43249893,   2.76510829, -52.65073312,\n",
       "       -34.41932557,  49.52651733,  31.21445447,  37.96010671,\n",
       "        46.12401861, -11.02622194,  32.28206317,  29.71842601,\n",
       "       -64.49710854,  69.63810984,  98.4152037 ,  23.99386302,\n",
       "       -11.11067912, -12.20065539,  98.68061705, -15.93527659,\n",
       "        -8.34721256, 142.30590857,  38.23544221,   3.28819099,\n",
       "       -42.02840629, -53.60843385,  62.14877565,  79.41823004,\n",
       "       -41.1802338 ,  72.86574354,  81.59752149, -38.13788267,\n",
       "       -79.63566776, -12.82432871,  76.7188725 ,  14.60100562,\n",
       "        -7.31341336,  43.38633049, -30.47485278, -85.86806879,\n",
       "       -52.16670597,  10.51447267, -19.45663639, -73.94759686])"
      ]
     },
     "execution_count": 13,
     "metadata": {},
     "output_type": "execute_result"
    }
   ],
   "source": [
    "start_map"
   ]
  },
  {
   "cell_type": "code",
   "execution_count": 14,
   "id": "b143919d-7f65-46e5-a455-e7c5094ba704",
   "metadata": {},
   "outputs": [
    {
     "data": {
      "text/plain": [
       "array([ 21.60303608-15.39474089j,  19.78537454+40.8998265j ,\n",
       "       -73.78268949+16.36997311j, -10.69136926-34.7919607j ,\n",
       "        23.37347829-22.44888374j, -57.39011588-24.03552216j,\n",
       "        -0.94692189+12.86734355j, -68.44691763 +3.11693555j,\n",
       "        16.07535436 -5.55682422j, -61.38446262 +4.69845438j])"
      ]
     },
     "execution_count": 14,
     "metadata": {},
     "output_type": "execute_result"
    }
   ],
   "source": [
    "fit.emodes"
   ]
  },
  {
   "cell_type": "code",
   "execution_count": 15,
   "id": "429454be-9c6e-40ab-a36b-e0c66c64d72a",
   "metadata": {},
   "outputs": [
    {
     "data": {
      "text/plain": [
       "array([ 21.60303608-15.39474089j,  19.78537454+40.8998265j ,\n",
       "       -73.78268949+16.36997311j, -10.69136926-34.7919607j ,\n",
       "        23.37347829-22.44888374j, -57.39011588-24.03552216j,\n",
       "        -0.94692189+12.86734355j, -68.44691763 +3.11693555j,\n",
       "        16.07535436 -5.55682422j, -61.38446262 +4.69845438j])"
      ]
     },
     "execution_count": 15,
     "metadata": {},
     "output_type": "execute_result"
    }
   ],
   "source": [
    "e_hyp_in"
   ]
  },
  {
   "cell_type": "code",
   "execution_count": 16,
   "id": "eff493d3-c5ab-41fd-85ce-53115155c77b",
   "metadata": {},
   "outputs": [
    {
     "data": {
      "text/plain": [
       "array([ 21.60303608-15.39474089j,  19.78537454+40.8998265j ,\n",
       "       -73.78268949+16.36997311j, -10.69136926-34.7919607j ,\n",
       "        23.37347829-22.44888374j, -57.39011588-24.03552216j,\n",
       "        -0.94692189+12.86734355j, -68.44691763 +3.11693555j,\n",
       "        16.07535436 -5.55682422j, -61.38446262 +4.69845438j])"
      ]
     },
     "execution_count": 16,
     "metadata": {},
     "output_type": "execute_result"
    }
   ],
   "source": [
    "fit.current_state"
   ]
  },
  {
   "cell_type": "code",
   "execution_count": 21,
   "id": "9dd11389-196d-409b-b39b-a276f81c7fe5",
   "metadata": {},
   "outputs": [
    {
     "data": {
      "image/png": "[encoded data removed]",
      "text/plain": [
       "<Figure size 612x388.8 with 2 Axes>"
      ]
     },
     "metadata": {
      "needs_background": "light"
     },
     "output_type": "display_data"
    }
   ],
   "source": [
    "hp.visufunc.mollview(hp.alm2map(fit.current_state, nside=nside))"
   ]
  },
  {
   "cell_type": "code",
   "execution_count": null,
   "id": "071fcc98-54ec-4f0e-8ac9-537340771274",
   "metadata": {},
   "outputs": [],
   "source": []
  }
 ],
 "metadata": {
  "kernelspec": {
   "display_name": "py3_ffk",
   "language": "python",
   "name": "py3_ffk"
  },
  "language_info": {
   "codemirror_mode": {
    "name": "ipython",
    "version": 3
   },
   "file_extension": ".py",
   "mimetype": "text/x-python",
   "name": "python",
   "nbconvert_exporter": "python",
   "pygments_lexer": "ipython3",
   "version": "3.7.0"
  }
 },
 "nbformat": 4,
 "nbformat_minor": 5
}
